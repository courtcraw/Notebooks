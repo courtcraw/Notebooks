{
 "cells": [
  {
   "cell_type": "code",
   "execution_count": 1,
   "id": "c6a8b5a8",
   "metadata": {},
   "outputs": [],
   "source": [
    "import read_mist_models\n",
    "import numpy as np\n",
    "import pandas as pd\n",
    "import matplotlib.pyplot as plt\n",
    "%matplotlib inline"
   ]
  },
  {
   "cell_type": "code",
   "execution_count": null,
   "id": "daa3a429",
   "metadata": {},
   "outputs": [],
   "source": []
  },
  {
   "cell_type": "code",
   "execution_count": 407,
   "id": "090ee949",
   "metadata": {},
   "outputs": [
    {
     "name": "stdout",
     "output_type": "stream",
     "text": [
      "Reading in: ../MIST_v1.2_feh_p0.00_afe_p0.0_vvcrit0.0_EEPS/00100M.track.eep\n"
     ]
    }
   ],
   "source": [
    "eep = read_mist_models.EEP('../MIST_v1.2_feh_p0.00_afe_p0.0_vvcrit0.0_EEPS/00100M.track.eep')"
   ]
  },
  {
   "cell_type": "code",
   "execution_count": 408,
   "id": "87e581d6",
   "metadata": {},
   "outputs": [
    {
     "name": "stdout",
     "output_type": "stream",
     "text": [
      "version:  {'MIST': '1.2', 'MESA': '7503'}\n",
      "abundances:  {'Yinit': 0.2703, 'Zinit': 0.0142857, '[Fe/H]': 0.0, '[a/Fe]': 0.0}\n",
      "rotation:  0.0\n",
      "initial mass:  1.0\n",
      "available columns:  ['star_age', 'star_mass', 'star_mdot', 'he_core_mass', 'c_core_mass', 'o_core_mass', 'log_L', 'log_L_div_Ledd', 'log_LH', 'log_LHe', 'log_LZ', 'log_Teff', 'log_abs_Lgrav', 'log_R', 'log_g', 'log_surf_z', 'surf_avg_omega', 'surf_avg_v_rot', 'surf_num_c12_div_num_o16', 'v_wind_Km_per_s', 'surf_avg_omega_crit', 'surf_avg_omega_div_omega_crit', 'surf_avg_v_crit', 'surf_avg_v_div_v_crit', 'surf_avg_Lrad_div_Ledd', 'v_div_csound_surf', 'surface_h1', 'surface_he3', 'surface_he4', 'surface_li7', 'surface_be9', 'surface_b11', 'surface_c12', 'surface_c13', 'surface_n14', 'surface_o16', 'surface_f19', 'surface_ne20', 'surface_na23', 'surface_mg24', 'surface_si28', 'surface_s32', 'surface_ca40', 'surface_ti48', 'surface_fe56', 'log_center_T', 'log_center_Rho', 'center_degeneracy', 'center_omega', 'center_gamma', 'mass_conv_core', 'center_h1', 'center_he4', 'center_c12', 'center_n14', 'center_o16', 'center_ne20', 'center_mg24', 'center_si28', 'pp', 'cno', 'tri_alfa', 'burn_c', 'burn_n', 'burn_o', 'c12_c12', 'delta_nu', 'delta_Pg', 'nu_max', 'acoustic_cutoff', 'max_conv_vel_div_csound', 'max_gradT_div_grada', 'gradT_excess_alpha', 'min_Pgas_div_P', 'max_L_rad_div_Ledd', 'e_thermal', 'phase']\n"
     ]
    }
   ],
   "source": [
    "print('version: ', eep.version)\n",
    "print('abundances: ', eep.abun)\n",
    "print('rotation: ', eep.rot)\n",
    "print('initial mass: ', eep.minit)\n",
    "print('available columns: ', eep.hdr_list)"
   ]
  },
  {
   "cell_type": "code",
   "execution_count": 409,
   "id": "b6d9c22c",
   "metadata": {},
   "outputs": [],
   "source": [
    "# eep.plot_HR(color='Black', phases=[0, 6], phasecolor=['Red', 'Blue'])\n",
    "# Following the FSPS notation, PMS:-1 ; MS:0 ; SGB+RGB:2 ; CHeB:3 ; EAGB:4 ; TPAGB:5 ; \n",
    "# post-AGB:6 ; WR:9"
   ]
  },
  {
   "cell_type": "code",
   "execution_count": 410,
   "id": "2d42bf37",
   "metadata": {},
   "outputs": [],
   "source": [
    "L = eep.eeps['log_L']\n",
    "T = eep.eeps['log_Teff']\n",
    "g = eep.eeps['log_g']"
   ]
  },
  {
   "cell_type": "code",
   "execution_count": 411,
   "id": "be0f80ec",
   "metadata": {},
   "outputs": [
    {
     "data": {
      "image/png": "[encoded data removed]",
      "text/plain": [
       "<Figure size 640x480 with 1 Axes>"
      ]
     },
     "metadata": {},
     "output_type": "display_data"
    }
   ],
   "source": [
    "plt.plot(T,L)\n",
    "plt.gca().invert_xaxis()\n",
    "plt.xlabel('Log Teff')\n",
    "plt.ylabel('Log L')\n",
    "plt.show()"
   ]
  },
  {
   "cell_type": "markdown",
   "id": "576970c4",
   "metadata": {},
   "source": [
    "That's all straightforward but now we need to convert Teff to Bp-Rp and L to G"
   ]
  },
  {
   "cell_type": "code",
   "execution_count": 412,
   "id": "5cc7820e",
   "metadata": {},
   "outputs": [
    {
     "data": {
      "text/plain": [
       "array([0.37077188, 0.38073546, 0.39106148, ..., 4.11298497, 4.17659207,\n",
       "       4.24010957])"
      ]
     },
     "execution_count": 412,
     "metadata": {},
     "output_type": "execute_result"
    }
   ],
   "source": [
    "# first convert L to Mbol\n",
    "# lol right this is in solar luminosity units so the zero point is just one\n",
    "Mbol = -2.5*L + 4.74\n",
    "Mbol"
   ]
  },
  {
   "cell_type": "code",
   "execution_count": null,
   "id": "2e842fcc",
   "metadata": {},
   "outputs": [],
   "source": []
  },
  {
   "cell_type": "code",
   "execution_count": null,
   "id": "362dc445",
   "metadata": {},
   "outputs": [],
   "source": []
  },
  {
   "cell_type": "code",
   "execution_count": 400,
   "id": "dee4125b",
   "metadata": {},
   "outputs": [
    {
     "data": {
      "text/html": [
       "<div>\n",
       "<style scoped>\n",
       "    .dataframe tbody tr th:only-of-type {\n",
       "        vertical-align: middle;\n",
       "    }\n",
       "\n",
       "    .dataframe tbody tr th {\n",
       "        vertical-align: top;\n",
       "    }\n",
       "\n",
       "    .dataframe thead th {\n",
       "        text-align: right;\n",
       "    }\n",
       "</style>\n",
       "<table border=\"1\" class=\"dataframe\">\n",
       "  <thead>\n",
       "    <tr style=\"text-align: right;\">\n",
       "      <th></th>\n",
       "      <th>Teff</th>\n",
       "      <th>logg</th>\n",
       "      <th>[Fe/H]</th>\n",
       "      <th>Av</th>\n",
       "      <th>Rv</th>\n",
       "      <th>Bessell_U</th>\n",
       "      <th>Bessell_B</th>\n",
       "      <th>Bessell_V</th>\n",
       "      <th>Bessell_R</th>\n",
       "      <th>Bessell_I</th>\n",
       "      <th>...</th>\n",
       "      <th>Gaia_BP_DR2Rev</th>\n",
       "      <th>Gaia_RP_DR2Rev</th>\n",
       "      <th>Gaia_G_MAW</th>\n",
       "      <th>Gaia_BP_MAWb</th>\n",
       "      <th>Gaia_BP_MAWf</th>\n",
       "      <th>Gaia_RP_MAW</th>\n",
       "      <th>TESS</th>\n",
       "      <th>Gaia_G_EDR3</th>\n",
       "      <th>Gaia_BP_EDR3</th>\n",
       "      <th>Gaia_RP_EDR3</th>\n",
       "    </tr>\n",
       "  </thead>\n",
       "  <tbody>\n",
       "    <tr>\n",
       "      <th>0</th>\n",
       "      <td>2500.0</td>\n",
       "      <td>-4.0</td>\n",
       "      <td>0.0</td>\n",
       "      <td>0.0</td>\n",
       "      <td>3.1</td>\n",
       "      <td>-8.128579</td>\n",
       "      <td>-8.388813</td>\n",
       "      <td>-6.954198</td>\n",
       "      <td>-4.520349</td>\n",
       "      <td>-2.177872</td>\n",
       "      <td>...</td>\n",
       "      <td>-7.113032</td>\n",
       "      <td>-2.129786</td>\n",
       "      <td>-3.683901</td>\n",
       "      <td>-7.070033</td>\n",
       "      <td>-7.094977</td>\n",
       "      <td>-2.091843</td>\n",
       "      <td>-1.722970</td>\n",
       "      <td>-3.691364</td>\n",
       "      <td>-7.095306</td>\n",
       "      <td>-2.124816</td>\n",
       "    </tr>\n",
       "    <tr>\n",
       "      <th>1</th>\n",
       "      <td>2500.0</td>\n",
       "      <td>-3.0</td>\n",
       "      <td>0.0</td>\n",
       "      <td>0.0</td>\n",
       "      <td>3.1</td>\n",
       "      <td>-8.128579</td>\n",
       "      <td>-8.388813</td>\n",
       "      <td>-6.954198</td>\n",
       "      <td>-4.520349</td>\n",
       "      <td>-2.177872</td>\n",
       "      <td>...</td>\n",
       "      <td>-7.113032</td>\n",
       "      <td>-2.129786</td>\n",
       "      <td>-3.683901</td>\n",
       "      <td>-7.070033</td>\n",
       "      <td>-7.094977</td>\n",
       "      <td>-2.091843</td>\n",
       "      <td>-1.722970</td>\n",
       "      <td>-3.691364</td>\n",
       "      <td>-7.095306</td>\n",
       "      <td>-2.124816</td>\n",
       "    </tr>\n",
       "    <tr>\n",
       "      <th>2</th>\n",
       "      <td>2500.0</td>\n",
       "      <td>-2.0</td>\n",
       "      <td>0.0</td>\n",
       "      <td>0.0</td>\n",
       "      <td>3.1</td>\n",
       "      <td>-8.128579</td>\n",
       "      <td>-8.388813</td>\n",
       "      <td>-6.954198</td>\n",
       "      <td>-4.520349</td>\n",
       "      <td>-2.177872</td>\n",
       "      <td>...</td>\n",
       "      <td>-7.113032</td>\n",
       "      <td>-2.129786</td>\n",
       "      <td>-3.683901</td>\n",
       "      <td>-7.070033</td>\n",
       "      <td>-7.094977</td>\n",
       "      <td>-2.091843</td>\n",
       "      <td>-1.722970</td>\n",
       "      <td>-3.691364</td>\n",
       "      <td>-7.095306</td>\n",
       "      <td>-2.124816</td>\n",
       "    </tr>\n",
       "    <tr>\n",
       "      <th>3</th>\n",
       "      <td>2500.0</td>\n",
       "      <td>-1.5</td>\n",
       "      <td>0.0</td>\n",
       "      <td>0.0</td>\n",
       "      <td>3.1</td>\n",
       "      <td>-8.128579</td>\n",
       "      <td>-8.388813</td>\n",
       "      <td>-6.954198</td>\n",
       "      <td>-4.520349</td>\n",
       "      <td>-2.177872</td>\n",
       "      <td>...</td>\n",
       "      <td>-7.113032</td>\n",
       "      <td>-2.129786</td>\n",
       "      <td>-3.683901</td>\n",
       "      <td>-7.070033</td>\n",
       "      <td>-7.094977</td>\n",
       "      <td>-2.091843</td>\n",
       "      <td>-1.722970</td>\n",
       "      <td>-3.691364</td>\n",
       "      <td>-7.095306</td>\n",
       "      <td>-2.124816</td>\n",
       "    </tr>\n",
       "    <tr>\n",
       "      <th>4</th>\n",
       "      <td>2500.0</td>\n",
       "      <td>-1.0</td>\n",
       "      <td>0.0</td>\n",
       "      <td>0.0</td>\n",
       "      <td>3.1</td>\n",
       "      <td>-8.128579</td>\n",
       "      <td>-8.388813</td>\n",
       "      <td>-6.954198</td>\n",
       "      <td>-4.520349</td>\n",
       "      <td>-2.177872</td>\n",
       "      <td>...</td>\n",
       "      <td>-7.113032</td>\n",
       "      <td>-2.129786</td>\n",
       "      <td>-3.683901</td>\n",
       "      <td>-7.070033</td>\n",
       "      <td>-7.094977</td>\n",
       "      <td>-2.091843</td>\n",
       "      <td>-1.722970</td>\n",
       "      <td>-3.691364</td>\n",
       "      <td>-7.095306</td>\n",
       "      <td>-2.124816</td>\n",
       "    </tr>\n",
       "    <tr>\n",
       "      <th>...</th>\n",
       "      <td>...</td>\n",
       "      <td>...</td>\n",
       "      <td>...</td>\n",
       "      <td>...</td>\n",
       "      <td>...</td>\n",
       "      <td>...</td>\n",
       "      <td>...</td>\n",
       "      <td>...</td>\n",
       "      <td>...</td>\n",
       "      <td>...</td>\n",
       "      <td>...</td>\n",
       "      <td>...</td>\n",
       "      <td>...</td>\n",
       "      <td>...</td>\n",
       "      <td>...</td>\n",
       "      <td>...</td>\n",
       "      <td>...</td>\n",
       "      <td>...</td>\n",
       "      <td>...</td>\n",
       "      <td>...</td>\n",
       "      <td>...</td>\n",
       "    </tr>\n",
       "    <tr>\n",
       "      <th>1815</th>\n",
       "      <td>1000000.0</td>\n",
       "      <td>7.5</td>\n",
       "      <td>0.0</td>\n",
       "      <td>0.0</td>\n",
       "      <td>3.1</td>\n",
       "      <td>-11.921102</td>\n",
       "      <td>-13.240746</td>\n",
       "      <td>-13.623014</td>\n",
       "      <td>-13.791091</td>\n",
       "      <td>-14.010837</td>\n",
       "      <td>...</td>\n",
       "      <td>-13.287952</td>\n",
       "      <td>-13.975341</td>\n",
       "      <td>-13.557568</td>\n",
       "      <td>-13.346040</td>\n",
       "      <td>-13.276860</td>\n",
       "      <td>-13.960440</td>\n",
       "      <td>-13.964506</td>\n",
       "      <td>-13.560292</td>\n",
       "      <td>-13.350248</td>\n",
       "      <td>-13.980786</td>\n",
       "    </tr>\n",
       "    <tr>\n",
       "      <th>1816</th>\n",
       "      <td>1000000.0</td>\n",
       "      <td>8.0</td>\n",
       "      <td>0.0</td>\n",
       "      <td>0.0</td>\n",
       "      <td>3.1</td>\n",
       "      <td>-11.921102</td>\n",
       "      <td>-13.240746</td>\n",
       "      <td>-13.623014</td>\n",
       "      <td>-13.791091</td>\n",
       "      <td>-14.010837</td>\n",
       "      <td>...</td>\n",
       "      <td>-13.287952</td>\n",
       "      <td>-13.975341</td>\n",
       "      <td>-13.557568</td>\n",
       "      <td>-13.346040</td>\n",
       "      <td>-13.276860</td>\n",
       "      <td>-13.960440</td>\n",
       "      <td>-13.964506</td>\n",
       "      <td>-13.560292</td>\n",
       "      <td>-13.350248</td>\n",
       "      <td>-13.980786</td>\n",
       "    </tr>\n",
       "    <tr>\n",
       "      <th>1817</th>\n",
       "      <td>1000000.0</td>\n",
       "      <td>8.5</td>\n",
       "      <td>0.0</td>\n",
       "      <td>0.0</td>\n",
       "      <td>3.1</td>\n",
       "      <td>-11.921102</td>\n",
       "      <td>-13.240746</td>\n",
       "      <td>-13.623014</td>\n",
       "      <td>-13.791091</td>\n",
       "      <td>-14.010837</td>\n",
       "      <td>...</td>\n",
       "      <td>-13.287952</td>\n",
       "      <td>-13.975341</td>\n",
       "      <td>-13.557568</td>\n",
       "      <td>-13.346040</td>\n",
       "      <td>-13.276860</td>\n",
       "      <td>-13.960440</td>\n",
       "      <td>-13.964506</td>\n",
       "      <td>-13.560292</td>\n",
       "      <td>-13.350248</td>\n",
       "      <td>-13.980786</td>\n",
       "    </tr>\n",
       "    <tr>\n",
       "      <th>1818</th>\n",
       "      <td>1000000.0</td>\n",
       "      <td>9.0</td>\n",
       "      <td>0.0</td>\n",
       "      <td>0.0</td>\n",
       "      <td>3.1</td>\n",
       "      <td>-11.921102</td>\n",
       "      <td>-13.240746</td>\n",
       "      <td>-13.623014</td>\n",
       "      <td>-13.791091</td>\n",
       "      <td>-14.010837</td>\n",
       "      <td>...</td>\n",
       "      <td>-13.287952</td>\n",
       "      <td>-13.975341</td>\n",
       "      <td>-13.557568</td>\n",
       "      <td>-13.346040</td>\n",
       "      <td>-13.276860</td>\n",
       "      <td>-13.960440</td>\n",
       "      <td>-13.964506</td>\n",
       "      <td>-13.560292</td>\n",
       "      <td>-13.350248</td>\n",
       "      <td>-13.980786</td>\n",
       "    </tr>\n",
       "    <tr>\n",
       "      <th>1819</th>\n",
       "      <td>1000000.0</td>\n",
       "      <td>9.5</td>\n",
       "      <td>0.0</td>\n",
       "      <td>0.0</td>\n",
       "      <td>3.1</td>\n",
       "      <td>-11.921102</td>\n",
       "      <td>-13.240746</td>\n",
       "      <td>-13.623014</td>\n",
       "      <td>-13.791091</td>\n",
       "      <td>-14.010837</td>\n",
       "      <td>...</td>\n",
       "      <td>-13.287952</td>\n",
       "      <td>-13.975341</td>\n",
       "      <td>-13.557568</td>\n",
       "      <td>-13.346040</td>\n",
       "      <td>-13.276860</td>\n",
       "      <td>-13.960440</td>\n",
       "      <td>-13.964506</td>\n",
       "      <td>-13.560292</td>\n",
       "      <td>-13.350248</td>\n",
       "      <td>-13.980786</td>\n",
       "    </tr>\n",
       "  </tbody>\n",
       "</table>\n",
       "<p>1820 rows × 29 columns</p>\n",
       "</div>"
      ],
      "text/plain": [
       "           Teff  logg  [Fe/H]   Av   Rv  Bessell_U  Bessell_B  Bessell_V  \\\n",
       "0        2500.0  -4.0     0.0  0.0  3.1  -8.128579  -8.388813  -6.954198   \n",
       "1        2500.0  -3.0     0.0  0.0  3.1  -8.128579  -8.388813  -6.954198   \n",
       "2        2500.0  -2.0     0.0  0.0  3.1  -8.128579  -8.388813  -6.954198   \n",
       "3        2500.0  -1.5     0.0  0.0  3.1  -8.128579  -8.388813  -6.954198   \n",
       "4        2500.0  -1.0     0.0  0.0  3.1  -8.128579  -8.388813  -6.954198   \n",
       "...         ...   ...     ...  ...  ...        ...        ...        ...   \n",
       "1815  1000000.0   7.5     0.0  0.0  3.1 -11.921102 -13.240746 -13.623014   \n",
       "1816  1000000.0   8.0     0.0  0.0  3.1 -11.921102 -13.240746 -13.623014   \n",
       "1817  1000000.0   8.5     0.0  0.0  3.1 -11.921102 -13.240746 -13.623014   \n",
       "1818  1000000.0   9.0     0.0  0.0  3.1 -11.921102 -13.240746 -13.623014   \n",
       "1819  1000000.0   9.5     0.0  0.0  3.1 -11.921102 -13.240746 -13.623014   \n",
       "\n",
       "      Bessell_R  Bessell_I  ...  Gaia_BP_DR2Rev  Gaia_RP_DR2Rev  Gaia_G_MAW  \\\n",
       "0     -4.520349  -2.177872  ...       -7.113032       -2.129786   -3.683901   \n",
       "1     -4.520349  -2.177872  ...       -7.113032       -2.129786   -3.683901   \n",
       "2     -4.520349  -2.177872  ...       -7.113032       -2.129786   -3.683901   \n",
       "3     -4.520349  -2.177872  ...       -7.113032       -2.129786   -3.683901   \n",
       "4     -4.520349  -2.177872  ...       -7.113032       -2.129786   -3.683901   \n",
       "...         ...        ...  ...             ...             ...         ...   \n",
       "1815 -13.791091 -14.010837  ...      -13.287952      -13.975341  -13.557568   \n",
       "1816 -13.791091 -14.010837  ...      -13.287952      -13.975341  -13.557568   \n",
       "1817 -13.791091 -14.010837  ...      -13.287952      -13.975341  -13.557568   \n",
       "1818 -13.791091 -14.010837  ...      -13.287952      -13.975341  -13.557568   \n",
       "1819 -13.791091 -14.010837  ...      -13.287952      -13.975341  -13.557568   \n",
       "\n",
       "      Gaia_BP_MAWb  Gaia_BP_MAWf  Gaia_RP_MAW       TESS  Gaia_G_EDR3  \\\n",
       "0        -7.070033     -7.094977    -2.091843  -1.722970    -3.691364   \n",
       "1        -7.070033     -7.094977    -2.091843  -1.722970    -3.691364   \n",
       "2        -7.070033     -7.094977    -2.091843  -1.722970    -3.691364   \n",
       "3        -7.070033     -7.094977    -2.091843  -1.722970    -3.691364   \n",
       "4        -7.070033     -7.094977    -2.091843  -1.722970    -3.691364   \n",
       "...            ...           ...          ...        ...          ...   \n",
       "1815    -13.346040    -13.276860   -13.960440 -13.964506   -13.560292   \n",
       "1816    -13.346040    -13.276860   -13.960440 -13.964506   -13.560292   \n",
       "1817    -13.346040    -13.276860   -13.960440 -13.964506   -13.560292   \n",
       "1818    -13.346040    -13.276860   -13.960440 -13.964506   -13.560292   \n",
       "1819    -13.346040    -13.276860   -13.960440 -13.964506   -13.560292   \n",
       "\n",
       "      Gaia_BP_EDR3  Gaia_RP_EDR3  \n",
       "0        -7.095306     -2.124816  \n",
       "1        -7.095306     -2.124816  \n",
       "2        -7.095306     -2.124816  \n",
       "3        -7.095306     -2.124816  \n",
       "4        -7.095306     -2.124816  \n",
       "...            ...           ...  \n",
       "1815    -13.350248    -13.980786  \n",
       "1816    -13.350248    -13.980786  \n",
       "1817    -13.350248    -13.980786  \n",
       "1818    -13.350248    -13.980786  \n",
       "1819    -13.350248    -13.980786  \n",
       "\n",
       "[1820 rows x 29 columns]"
      ]
     },
     "execution_count": 400,
     "metadata": {},
     "output_type": "execute_result"
    }
   ],
   "source": [
    "# then can apply a bolometric correction to get that to the other magnitudes?\n",
    "# bolometric correction is a function of temperature and logg (in the tables)\n",
    "\n",
    "bolo_corr = pd.read_csv('../UBVRIplus/fehp000.UBVRIplus',\n",
    "                        header=5,sep='\\s+',on_bad_lines='skip')\n",
    "bolo_corr_relevant = bolo_corr[bolo_corr['Av']==0]\n",
    "bolo_corr_relevant"
   ]
  },
  {
   "cell_type": "code",
   "execution_count": 401,
   "id": "02685e26",
   "metadata": {},
   "outputs": [],
   "source": [
    "# teff_list = []\n",
    "# logg_list = []\n",
    "# for i in range(0,len(bolo_corr_relevant)):\n",
    "#     if bolo_corr_relevant['Teff'][i] not in teff_list:\n",
    "#         teff_list.append(bolo_corr_relevant['Teff'][i])\n",
    "#     if bolo_corr_relevant['logg'][i] not in logg_list:\n",
    "#         logg_list.append(bolo_corr_relevant['logg'][i])\n",
    "        \n",
    "# print(teff_list)\n",
    "# print(logg_list)"
   ]
  },
  {
   "cell_type": "code",
   "execution_count": null,
   "id": "070a3681",
   "metadata": {},
   "outputs": [],
   "source": []
  },
  {
   "cell_type": "code",
   "execution_count": 52,
   "id": "ace6deb8",
   "metadata": {},
   "outputs": [
    {
     "name": "stdout",
     "output_type": "stream",
     "text": [
      "[[ -3.691364  -3.480922  -2.922356 ... -12.837304 -13.218816 -13.560292]\n",
      " [ -3.691364  -3.480922  -2.922356 ... -12.837304 -13.218816 -13.560292]\n",
      " [ -3.691364  -3.480922  -2.922356 ... -12.837304 -13.218816 -13.560292]\n",
      " ...\n",
      " [ -2.262595  -1.689232  -1.334917 ... -12.837304 -13.218816 -13.560292]\n",
      " [ -2.262595  -1.689232  -1.334917 ... -12.837304 -13.218816 -13.560292]\n",
      " [ -2.262595  -1.689232  -1.334917 ... -12.837304 -13.218816 -13.560292]]\n"
     ]
    }
   ],
   "source": [
    "#apparently all of this was NOT NECESSARY for using interp2d oh well\n",
    "teff_vals, teff_idx = np.unique(bolo_corr_relevant['Teff'], return_inverse=True)\n",
    "logg_vals, logg_idx = np.unique(bolo_corr_relevant['logg'], return_inverse=True)\n",
    "vals_array = np.empty((len(teff_vals),len(logg_vals)))\n",
    "vals_array.fill(0) # or whatever your desired missing data flag is\n",
    "vals_array[teff_idx, logg_idx] = bolo_corr_relevant['Gaia_G_EDR3']\n",
    "bolo_g = vals_array.T\n",
    "print(bolo_g)"
   ]
  },
  {
   "cell_type": "code",
   "execution_count": 53,
   "id": "05920d39",
   "metadata": {},
   "outputs": [
    {
     "name": "stdout",
     "output_type": "stream",
     "text": [
      "[[ -7.095306  -6.556701  -5.920595 ... -12.627694 -13.008965 -13.350248]\n",
      " [ -7.095306  -6.556701  -5.920595 ... -12.627694 -13.008965 -13.350248]\n",
      " [ -7.095306  -6.556701  -5.920595 ... -12.627694 -13.008965 -13.350248]\n",
      " ...\n",
      " [ -5.953775  -4.216551  -3.327507 ... -12.627694 -13.008965 -13.350248]\n",
      " [ -5.953775  -4.216551  -3.327507 ... -12.627694 -13.008965 -13.350248]\n",
      " [ -5.953775  -4.216551  -3.327507 ... -12.627694 -13.008965 -13.350248]]\n"
     ]
    }
   ],
   "source": [
    "vals_array = np.empty((len(teff_vals),len(logg_vals)))\n",
    "vals_array.fill(0) # or whatever your desired missing data flag is\n",
    "vals_array[teff_idx, logg_idx] = bolo_corr_relevant['Gaia_BP_EDR3']\n",
    "bolo_bp = vals_array.T\n",
    "print(bolo_bp)"
   ]
  },
  {
   "cell_type": "code",
   "execution_count": 54,
   "id": "46ff40eb",
   "metadata": {},
   "outputs": [
    {
     "name": "stdout",
     "output_type": "stream",
     "text": [
      "[[ -2.124816  -1.962184  -1.44243  ... -13.256607 -13.63878  -13.980786]\n",
      " [ -2.124816  -1.962184  -1.44243  ... -13.256607 -13.63878  -13.980786]\n",
      " [ -2.124816  -1.962184  -1.44243  ... -13.256607 -13.63878  -13.980786]\n",
      " ...\n",
      " [ -0.721157  -0.291647  -0.027753 ... -13.256607 -13.63878  -13.980786]\n",
      " [ -0.721157  -0.291647  -0.027753 ... -13.256607 -13.63878  -13.980786]\n",
      " [ -0.721157  -0.291647  -0.027753 ... -13.256607 -13.63878  -13.980786]]\n"
     ]
    }
   ],
   "source": [
    "vals_array = np.empty((len(teff_vals),len(logg_vals)))\n",
    "vals_array.fill(0) # or whatever your desired missing data flag is\n",
    "vals_array[teff_idx, logg_idx] = bolo_corr_relevant['Gaia_RP_EDR3']\n",
    "bolo_rp = vals_array.T\n",
    "print(bolo_rp)"
   ]
  },
  {
   "cell_type": "code",
   "execution_count": null,
   "id": "d9dc665f",
   "metadata": {},
   "outputs": [],
   "source": []
  },
  {
   "cell_type": "code",
   "execution_count": null,
   "id": "50e5e9a8",
   "metadata": {},
   "outputs": [],
   "source": []
  },
  {
   "cell_type": "code",
   "execution_count": null,
   "id": "9cbe476d",
   "metadata": {},
   "outputs": [],
   "source": []
  },
  {
   "cell_type": "code",
   "execution_count": null,
   "id": "a49a18b1",
   "metadata": {},
   "outputs": [],
   "source": []
  },
  {
   "cell_type": "code",
   "execution_count": 12,
   "id": "4af71547",
   "metadata": {},
   "outputs": [],
   "source": [
    "from scipy.interpolate import interp2d"
   ]
  },
  {
   "cell_type": "code",
   "execution_count": 60,
   "id": "3e262bb3",
   "metadata": {},
   "outputs": [],
   "source": [
    "bolo_g_interp = interp2d(teff_vals,logg_vals,bolo_g) #default is a linear fit\n",
    "bolo_bp_interp = interp2d(teff_vals,logg_vals,bolo_bp)\n",
    "bolo_rp_interp = interp2d(teff_vals,logg_vals,bolo_rp)"
   ]
  },
  {
   "cell_type": "code",
   "execution_count": null,
   "id": "1ea74860",
   "metadata": {},
   "outputs": [],
   "source": []
  },
  {
   "cell_type": "code",
   "execution_count": null,
   "id": "685b0a5f",
   "metadata": {},
   "outputs": [],
   "source": []
  },
  {
   "cell_type": "code",
   "execution_count": 413,
   "id": "ac240afd",
   "metadata": {},
   "outputs": [],
   "source": [
    "g_mag = []\n",
    "bp_min_rp = []\n",
    "for i in range(0,len(L)):\n",
    "    #Mbol, g, T (which is a log)\n",
    "    g_mag.append(Mbol[i] - bolo_g_interp(10**(T[i]),g[i])[0])\n",
    "#     print(Mbol[i] - bolo_g_interp(10**(T[i]),g[i])[0])\n",
    "    bp = Mbol[i] - bolo_bp_interp(10**(T[i]),g[i])[0]\n",
    "    rp = Mbol[i] - bolo_rp_interp(10**(T[i]),g[i])[0]\n",
    "    bp_min_rp.append(bp - rp)"
   ]
  },
  {
   "cell_type": "code",
   "execution_count": null,
   "id": "8c8a90c1",
   "metadata": {},
   "outputs": [],
   "source": []
  },
  {
   "cell_type": "code",
   "execution_count": null,
   "id": "e1a0fba4",
   "metadata": {},
   "outputs": [],
   "source": []
  },
  {
   "cell_type": "code",
   "execution_count": null,
   "id": "3ef8e17c",
   "metadata": {},
   "outputs": [],
   "source": []
  },
  {
   "cell_type": "code",
   "execution_count": 414,
   "id": "d92b6383",
   "metadata": {},
   "outputs": [
    {
     "data": {
      "image/png": "[encoded data removed]",
      "text/plain": [
       "<Figure size 640x480 with 1 Axes>"
      ]
     },
     "metadata": {},
     "output_type": "display_data"
    }
   ],
   "source": [
    "plt.plot(bp_min_rp,g_mag)\n",
    "plt.gca().invert_yaxis()\n",
    "# plt.gca().invert_xaxis()\n",
    "plt.xlabel('Bp-Rp')\n",
    "plt.ylabel('M_G')\n",
    "plt.show()"
   ]
  },
  {
   "cell_type": "code",
   "execution_count": null,
   "id": "4eba299a",
   "metadata": {},
   "outputs": [],
   "source": []
  },
  {
   "cell_type": "code",
   "execution_count": 415,
   "id": "f1bdf7cb",
   "metadata": {},
   "outputs": [
    {
     "data": {
      "text/plain": [
       "array([1.76636786e+03, 1.86069470e+03, 1.96010550e+03, ...,\n",
       "       1.14652974e+10, 1.14653830e+10, 1.14654715e+10])"
      ]
     },
     "execution_count": 415,
     "metadata": {},
     "output_type": "execute_result"
    }
   ],
   "source": [
    "age = eep.eeps['star_age']\n",
    "age"
   ]
  },
  {
   "cell_type": "code",
   "execution_count": 416,
   "id": "b68172da",
   "metadata": {},
   "outputs": [
    {
     "data": {
      "text/html": [
       "<div>\n",
       "<style scoped>\n",
       "    .dataframe tbody tr th:only-of-type {\n",
       "        vertical-align: middle;\n",
       "    }\n",
       "\n",
       "    .dataframe tbody tr th {\n",
       "        vertical-align: top;\n",
       "    }\n",
       "\n",
       "    .dataframe thead th {\n",
       "        text-align: right;\n",
       "    }\n",
       "</style>\n",
       "<table border=\"1\" class=\"dataframe\">\n",
       "  <thead>\n",
       "    <tr style=\"text-align: right;\">\n",
       "      <th></th>\n",
       "      <th>Bp-Rp</th>\n",
       "      <th>M_G</th>\n",
       "      <th>star_age</th>\n",
       "    </tr>\n",
       "  </thead>\n",
       "  <tbody>\n",
       "    <tr>\n",
       "      <th>0</th>\n",
       "      <td>1.547061</td>\n",
       "      <td>0.755451</td>\n",
       "      <td>1.766368e+03</td>\n",
       "    </tr>\n",
       "    <tr>\n",
       "      <th>1</th>\n",
       "      <td>1.545425</td>\n",
       "      <td>0.763929</td>\n",
       "      <td>1.860695e+03</td>\n",
       "    </tr>\n",
       "    <tr>\n",
       "      <th>2</th>\n",
       "      <td>1.543715</td>\n",
       "      <td>0.772703</td>\n",
       "      <td>1.960106e+03</td>\n",
       "    </tr>\n",
       "    <tr>\n",
       "      <th>3</th>\n",
       "      <td>1.541835</td>\n",
       "      <td>0.781551</td>\n",
       "      <td>2.064862e+03</td>\n",
       "    </tr>\n",
       "    <tr>\n",
       "      <th>4</th>\n",
       "      <td>1.540025</td>\n",
       "      <td>0.791054</td>\n",
       "      <td>2.175210e+03</td>\n",
       "    </tr>\n",
       "    <tr>\n",
       "      <th>...</th>\n",
       "      <td>...</td>\n",
       "      <td>...</td>\n",
       "      <td>...</td>\n",
       "    </tr>\n",
       "    <tr>\n",
       "      <th>1705</th>\n",
       "      <td>-0.523183</td>\n",
       "      <td>8.438772</td>\n",
       "      <td>1.146513e+10</td>\n",
       "    </tr>\n",
       "    <tr>\n",
       "      <th>1706</th>\n",
       "      <td>-0.521997</td>\n",
       "      <td>8.461458</td>\n",
       "      <td>1.146521e+10</td>\n",
       "    </tr>\n",
       "    <tr>\n",
       "      <th>1707</th>\n",
       "      <td>-0.520821</td>\n",
       "      <td>8.484418</td>\n",
       "      <td>1.146530e+10</td>\n",
       "    </tr>\n",
       "    <tr>\n",
       "      <th>1708</th>\n",
       "      <td>-0.519656</td>\n",
       "      <td>8.507676</td>\n",
       "      <td>1.146538e+10</td>\n",
       "    </tr>\n",
       "    <tr>\n",
       "      <th>1709</th>\n",
       "      <td>-0.518503</td>\n",
       "      <td>8.531238</td>\n",
       "      <td>1.146547e+10</td>\n",
       "    </tr>\n",
       "  </tbody>\n",
       "</table>\n",
       "<p>1710 rows × 3 columns</p>\n",
       "</div>"
      ],
      "text/plain": [
       "         Bp-Rp       M_G      star_age\n",
       "0     1.547061  0.755451  1.766368e+03\n",
       "1     1.545425  0.763929  1.860695e+03\n",
       "2     1.543715  0.772703  1.960106e+03\n",
       "3     1.541835  0.781551  2.064862e+03\n",
       "4     1.540025  0.791054  2.175210e+03\n",
       "...        ...       ...           ...\n",
       "1705 -0.523183  8.438772  1.146513e+10\n",
       "1706 -0.521997  8.461458  1.146521e+10\n",
       "1707 -0.520821  8.484418  1.146530e+10\n",
       "1708 -0.519656  8.507676  1.146538e+10\n",
       "1709 -0.518503  8.531238  1.146547e+10\n",
       "\n",
       "[1710 rows x 3 columns]"
      ]
     },
     "execution_count": 416,
     "metadata": {},
     "output_type": "execute_result"
    }
   ],
   "source": [
    "cmd_output = np.concatenate(([bp_min_rp],[g_mag],[age]))\n",
    "cmd_frame = pd.DataFrame(cmd_output.transpose(),columns=['Bp-Rp','M_G','star_age'])\n",
    "cmd_frame"
   ]
  },
  {
   "cell_type": "code",
   "execution_count": null,
   "id": "e72c3129",
   "metadata": {},
   "outputs": [],
   "source": []
  },
  {
   "cell_type": "code",
   "execution_count": 417,
   "id": "962db870",
   "metadata": {},
   "outputs": [],
   "source": [
    "cmd_frame.to_csv('../MIST_z0_v0_10M_cmd.csv',index=False)"
   ]
  },
  {
   "cell_type": "code",
   "execution_count": null,
   "id": "a89f7bed",
   "metadata": {},
   "outputs": [],
   "source": []
  },
  {
   "cell_type": "code",
   "execution_count": null,
   "id": "1a81c100",
   "metadata": {},
   "outputs": [],
   "source": []
  },
  {
   "cell_type": "code",
   "execution_count": null,
   "id": "f1bfc5a0",
   "metadata": {},
   "outputs": [],
   "source": []
  },
  {
   "cell_type": "code",
   "execution_count": null,
   "id": "646b2b4a",
   "metadata": {},
   "outputs": [],
   "source": []
  }
 ],
 "metadata": {
  "kernelspec": {
   "display_name": "Python 3 (ipykernel)",
   "language": "python",
   "name": "python3"
  },
  "language_info": {
   "codemirror_mode": {
    "name": "ipython",
    "version": 3
   },
   "file_extension": ".py",
   "mimetype": "text/x-python",
   "name": "python",
   "nbconvert_exporter": "python",
   "pygments_lexer": "ipython3",
   "version": "3.10.7"
  }
 },
 "nbformat": 4,
 "nbformat_minor": 5
}
