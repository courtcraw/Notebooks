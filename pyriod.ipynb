{
 "cells": [
  {
   "cell_type": "code",
   "execution_count": 1,
   "id": "32bd1d40",
   "metadata": {},
   "outputs": [],
   "source": [
    "%matplotlib widget\n",
    "from Pyriod import Pyriod"
   ]
  },
  {
   "cell_type": "code",
   "execution_count": 2,
   "id": "45645f18",
   "metadata": {},
   "outputs": [],
   "source": [
    "import lightkurve as lk\n",
    "import numpy as np\n",
    "import astropy.units as u\n",
    "# lc = lk.search_lightcurve('TIC 257459955',mission='TESS',sector=3)[0].download().remove_nans().flatten(2161).remove_outliers(5)\n"
   ]
  },
  {
   "cell_type": "code",
   "execution_count": null,
   "id": "765eda1b",
   "metadata": {},
   "outputs": [],
   "source": []
  },
  {
   "cell_type": "code",
   "execution_count": 3,
   "id": "3c6fbf6e",
   "metadata": {},
   "outputs": [],
   "source": [
    "eroscg2 = np.loadtxt('../KMTnet_data/pydia.KMTNJ175248.7-284518.AI.txt')"
   ]
  },
  {
   "cell_type": "code",
   "execution_count": 4,
   "id": "cae1ad89",
   "metadata": {},
   "outputs": [],
   "source": [
    "eroscg2 = eroscg2[eroscg2[:,0].argsort()]\n",
    "# eroscg2 = eroscg2[(eroscg2[...,1:] != eroscg2[...,:-1]).all(-1)]\n",
    "# eroscg2[20:30,:]"
   ]
  },
  {
   "cell_type": "code",
   "execution_count": null,
   "id": "ec734f3d",
   "metadata": {},
   "outputs": [],
   "source": []
  },
  {
   "cell_type": "code",
   "execution_count": 5,
   "id": "7c22aa1f",
   "metadata": {},
   "outputs": [],
   "source": [
    "## make a mask to remove duplicates?\n",
    "dup_mask = [0]\n",
    "for i in range(1,len(eroscg2)):\n",
    "    diff = eroscg2[i,0]-eroscg2[i-1,0]\n",
    "    if diff != 0.0:\n",
    "        dup_mask.append(i)\n",
    "# print(dup_mask)"
   ]
  },
  {
   "cell_type": "code",
   "execution_count": 6,
   "id": "27286499",
   "metadata": {},
   "outputs": [],
   "source": [
    "eroscg2 = eroscg2[dup_mask]"
   ]
  },
  {
   "cell_type": "code",
   "execution_count": null,
   "id": "7cd1c377",
   "metadata": {},
   "outputs": [],
   "source": []
  },
  {
   "cell_type": "code",
   "execution_count": 7,
   "id": "dd187024",
   "metadata": {},
   "outputs": [],
   "source": [
    "lc = lk.LightCurve(time=eroscg2[:,0][eroscg2[:,0]<8500],\n",
    "                   flux=eroscg2[:,1][eroscg2[:,0]<8500]*u.mag,\n",
    "                   flux_err=eroscg2[:,2][eroscg2[:,0]<8500]*u.mag)"
   ]
  },
  {
   "cell_type": "code",
   "execution_count": 8,
   "id": "b393db27",
   "metadata": {},
   "outputs": [],
   "source": [
    "# %matplotlib inline"
   ]
  },
  {
   "cell_type": "code",
   "execution_count": 9,
   "id": "9e8a8bc7",
   "metadata": {},
   "outputs": [],
   "source": [
    "# lc.plot()"
   ]
  },
  {
   "cell_type": "code",
   "execution_count": null,
   "id": "507c1965",
   "metadata": {},
   "outputs": [],
   "source": []
  },
  {
   "cell_type": "code",
   "execution_count": null,
   "id": "825061b2",
   "metadata": {},
   "outputs": [],
   "source": []
  },
  {
   "cell_type": "code",
   "execution_count": 21,
   "id": "bd13ea9f",
   "metadata": {},
   "outputs": [],
   "source": [
    "pyriod = Pyriod(lc)"
   ]
  },
  {
   "cell_type": "code",
   "execution_count": 22,
   "id": "7510b433",
   "metadata": {},
   "outputs": [
    {
     "data": {
      "application/vnd.jupyter.widget-view+json": {
       "model_id": "e8b4852f454544cd98a551979a4902b3",
       "version_major": 2,
       "version_minor": 0
      },
      "text/plain": [
       "VBox(children=(HTML(value=''), Canvas(toolbar=Toolbar(toolitems=[('Home', 'Reset original view', 'home', 'home…"
      ]
     },
     "metadata": {},
     "output_type": "display_data"
    }
   ],
   "source": [
    "pyriod.TimeSeries()"
   ]
  },
  {
   "cell_type": "code",
   "execution_count": 23,
   "id": "711fa5ec",
   "metadata": {},
   "outputs": [
    {
     "data": {
      "application/vnd.jupyter.widget-view+json": {
       "model_id": "c28bb46696464905928f4b2f073f1c02",
       "version_major": 2,
       "version_minor": 0
      },
      "text/plain": [
       "VBox(children=(HTML(value=''), HBox(children=(Text(value='0.22749412254997392', description='Frequency:', plac…"
      ]
     },
     "metadata": {},
     "output_type": "display_data"
    }
   ],
   "source": [
    "pyriod.Periodogram()"
   ]
  },
  {
   "cell_type": "code",
   "execution_count": 24,
   "id": "da1e4727",
   "metadata": {},
   "outputs": [
    {
     "data": {
      "application/vnd.jupyter.widget-view+json": {
       "model_id": "9558f432b770430cb843c64edf07dc97",
       "version_major": 2,
       "version_minor": 0
      },
      "text/plain": [
       "VBox(children=(HTML(value=''), HBox(children=(Button(description='Refine fit', icon='refresh', style=ButtonSty…"
      ]
     },
     "metadata": {},
     "output_type": "display_data"
    }
   ],
   "source": [
    "pyriod.Signals()"
   ]
  },
  {
   "cell_type": "code",
   "execution_count": 25,
   "id": "a36c82c5",
   "metadata": {},
   "outputs": [
    {
     "data": {
      "application/vnd.jupyter.widget-view+json": {
       "model_id": "146eb2d85a354211b60d4da9f536c384",
       "version_major": 2,
       "version_minor": 0
      },
      "text/plain": [
       "VBox(children=(Box(children=(HTML(value=\"2022-09-14 14:54:45,912 - INFO - Initiating Pyriod instance 1.<br>\\n2…"
      ]
     },
     "metadata": {},
     "output_type": "display_data"
    }
   ],
   "source": [
    "pyriod.Log()"
   ]
  },
  {
   "cell_type": "code",
   "execution_count": 18,
   "id": "6c4b4407",
   "metadata": {},
   "outputs": [
    {
     "data": {
      "application/vnd.jupyter.widget-view+json": {
       "model_id": "ea3660922b0c46e094586e1be96b9f3e",
       "version_major": 2,
       "version_minor": 0
      },
      "text/plain": [
       "Tab(children=(VBox(children=(HTML(value=''), Canvas(toolbar=Toolbar(toolitems=[('Home', 'Reset original view',…"
      ]
     },
     "metadata": {},
     "output_type": "display_data"
    }
   ],
   "source": [
    "## I have no idea why this one doesn't work but that's okay I suppose\n",
    "# pyriod.Pyriod()"
   ]
  },
  {
   "cell_type": "code",
   "execution_count": null,
   "id": "35e700b0",
   "metadata": {},
   "outputs": [],
   "source": []
  },
  {
   "cell_type": "code",
   "execution_count": null,
   "id": "f1343c83",
   "metadata": {},
   "outputs": [],
   "source": []
  },
  {
   "cell_type": "code",
   "execution_count": null,
   "id": "86cc6208",
   "metadata": {},
   "outputs": [],
   "source": []
  },
  {
   "cell_type": "code",
   "execution_count": null,
   "id": "3ab6963c",
   "metadata": {},
   "outputs": [],
   "source": []
  },
  {
   "cell_type": "code",
   "execution_count": null,
   "id": "1e4ab203",
   "metadata": {},
   "outputs": [],
   "source": []
  },
  {
   "cell_type": "code",
   "execution_count": null,
   "id": "49251f9c",
   "metadata": {},
   "outputs": [],
   "source": []
  },
  {
   "cell_type": "code",
   "execution_count": null,
   "id": "a91553d3",
   "metadata": {},
   "outputs": [],
   "source": []
  },
  {
   "cell_type": "code",
   "execution_count": null,
   "id": "34643a0c",
   "metadata": {},
   "outputs": [],
   "source": []
  }
 ],
 "metadata": {
  "kernelspec": {
   "display_name": "Python 3 (ipykernel)",
   "language": "python",
   "name": "python3"
  },
  "language_info": {
   "codemirror_mode": {
    "name": "ipython",
    "version": 3
   },
   "file_extension": ".py",
   "mimetype": "text/x-python",
   "name": "python",
   "nbconvert_exporter": "python",
   "pygments_lexer": "ipython3",
   "version": "3.10.7"
  }
 },
 "nbformat": 4,
 "nbformat_minor": 5
}
